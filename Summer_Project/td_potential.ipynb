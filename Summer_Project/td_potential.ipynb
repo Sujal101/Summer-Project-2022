{
 "cells": [
  {
   "cell_type": "code",
   "execution_count": 2,
   "metadata": {},
   "outputs": [],
   "source": [
    "import numpy as np\n",
    "import matplotlib.pyplot as plt\n",
    "import scipy.linalg as sl\n",
    "from matplotlib.animation import FuncAnimation"
   ]
  },
  {
   "cell_type": "code",
   "execution_count": 3,
   "metadata": {},
   "outputs": [],
   "source": [
    "class grid:\n",
    "\n",
    "    def __init__(self, start, end, n_points) -> None:\n",
    "        self.x_initial = start\n",
    "        self.x_final = end\n",
    "        self.N = n_points\n",
    "        self.dx = (end - start)/n_points\n",
    "\n",
    "    def x_values(self):\n",
    "        x = np.linspace(self.x_initial, self.x_final, self.N + 1)\n",
    "        return x[1:-1]"
   ]
  },
  {
   "cell_type": "code",
   "execution_count": 4,
   "metadata": {},
   "outputs": [],
   "source": [
    "def potential(x,t):\n",
    "    d = 0.17\n",
    "    a = 1.04\n",
    "    xe = 1.4\n",
    "    epsilon_0 = 0.5\n",
    "    omega = 0.1\n",
    "\n",
    "    v = d*((1-np.exp(-a*(x-xe)))**2) + x * epsilon_0 * np.cos(omega*t)\n",
    "\n",
    "    return v"
   ]
  },
  {
   "cell_type": "code",
   "execution_count": 5,
   "metadata": {},
   "outputs": [],
   "source": [
    "def T_DVR(g):\n",
    "    cons = 1/((918)*(g.dx**2))\n",
    "    T =  np.zeros((g.N-1, g.N-1))\n",
    "    \n",
    "    for i in range(g.N-1):\n",
    "        for j in range(g.N-1):\n",
    "            if i == j:\n",
    "                T[i,j] = cons*((np.pi**2)/3 - 1/(2*((i+1)**2)))\n",
    "            else:\n",
    "                T[i,j] = cons*((-1)**(i-j))*((2/(i-j)**2) - (2/(i+j)**2))\n",
    "    \n",
    "    return T"
   ]
  },
  {
   "cell_type": "code",
   "execution_count": 6,
   "metadata": {},
   "outputs": [
    {
     "data": {
      "image/png": "[encoded data removed]",
      "text/plain": [
       "<Figure size 432x288 with 1 Axes>"
      ]
     },
     "metadata": {
      "needs_background": "light"
     },
     "output_type": "display_data"
    }
   ],
   "source": [
    "g = grid(-5,5,400)\n",
    "x = g.x_values()\n",
    "T_matrix = T_DVR(g)\n",
    "\n",
    "eigenvalue = []\n",
    "\n",
    "t_lis = []\n",
    "for t in np.arange(0,30,0.1):\n",
    "    V_matrix = np.diag(potential(x, t))\n",
    "    eigenvalues, eigenvector_matrix = sl.eigh(V_matrix + T_matrix)\n",
    "\n",
    "    state = eigenvector_matrix[:,0]\n",
    "    eigenvalue.append(eigenvalues[0])\n",
    "\n",
    "    t_lis.append(t)\n",
    "\n",
    "plt.plot(t_lis, eigenvalue)\n",
    "plt.show()"
   ]
  },
  {
   "cell_type": "code",
   "execution_count": 7,
   "metadata": {},
   "outputs": [],
   "source": [
    "def state(t):\n",
    "    V_matrix = np.diag(potential(x, t))\n",
    "    eigenvalues, eigenvector_matrix = sl.eigh(V_matrix + T_matrix)\n",
    "\n",
    "    state = eigenvector_matrix[:,0:2]\n",
    "    time_dependent_part = np.diag(np.exp(-1.j*eigenvalues[0:2]*t))\n",
    "\n",
    "    wave_fun = state.dot(time_dependent_part)[:,0] + state.dot(time_dependent_part)[:,1]\n",
    "    return wave_fun.real"
   ]
  },
  {
   "cell_type": "code",
   "execution_count": 8,
   "metadata": {},
   "outputs": [
    {
     "data": {
      "image/png": "[encoded data removed]",
      "text/plain": [
       "<Figure size 432x288 with 1 Axes>"
      ]
     },
     "metadata": {
      "needs_background": "light"
     },
     "output_type": "display_data"
    }
   ],
   "source": [
    "\n",
    "fig, ax = plt.subplots()\n",
    "\n",
    "def ani_fun(t):\n",
    "    ax.clear()\n",
    "    ax.set_xlim(-5,5)\n",
    "    ax.set_title(\"time= {time:.2f}\".format(time = t))\n",
    "    ax.plot(x, state(t))\n",
    "\n",
    "anima = FuncAnimation(fig, ani_fun, np.arange(0,3,0.01))\n",
    "anima.save('td_pot.mp4')"
   ]
  },
  {
   "cell_type": "code",
   "execution_count": 15,
   "metadata": {},
   "outputs": [
    {
     "data": {
      "text/plain": [
       "[<matplotlib.lines.Line2D at 0x7f76f018e100>]"
      ]
     },
     "execution_count": 15,
     "metadata": {},
     "output_type": "execute_result"
    },
    {
     "data": {
      "image/png": "[encoded data removed]",
      "text/plain": [
       "<Figure size 432x288 with 1 Axes>"
      ]
     },
     "metadata": {
      "needs_background": "light"
     },
     "output_type": "display_data"
    }
   ],
   "source": [
    "plt.plot(state(9).real)"
   ]
  },
  {
   "cell_type": "code",
   "execution_count": null,
   "metadata": {},
   "outputs": [],
   "source": []
  }
 ],
 "metadata": {
  "kernelspec": {
   "display_name": "Python 3.9.12 ('base')",
   "language": "python",
   "name": "python3"
  },
  "language_info": {
   "codemirror_mode": {
    "name": "ipython",
    "version": 3
   },
   "file_extension": ".py",
   "mimetype": "text/x-python",
   "name": "python",
   "nbconvert_exporter": "python",
   "pygments_lexer": "ipython3",
   "version": "3.9.12"
  },
  "orig_nbformat": 4,
  "vscode": {
   "interpreter": {
    "hash": "22d4cf708b2ea182bff5822eba4f18f6af6527315f0b1aba7247db37519935d6"
   }
  }
 },
 "nbformat": 4,
 "nbformat_minor": 2
}
