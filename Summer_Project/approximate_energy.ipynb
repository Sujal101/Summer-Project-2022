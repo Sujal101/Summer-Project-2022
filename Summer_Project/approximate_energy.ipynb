{
 "cells": [
  {
   "cell_type": "code",
   "execution_count": 4,
   "metadata": {},
   "outputs": [],
   "source": [
    "import numpy as np\n",
    "import matplotlib.pyplot as plt\n",
    "import scipy.linalg as sl"
   ]
  },
  {
   "cell_type": "code",
   "execution_count": 5,
   "metadata": {},
   "outputs": [],
   "source": [
    "class grid:\n",
    "\n",
    "    def __init__(self, start, end, n_points) -> None:\n",
    "        self.x_initial = start\n",
    "        self.x_final = end\n",
    "        self.N = n_points\n",
    "        self.dx = (end - start)/n_points\n",
    "\n",
    "    def x_values(self):\n",
    "        x = np.linspace(self.x_initial, self.x_final, self.N + 1)\n",
    "        return x[1:-1]\n",
    "\n",
    "        \n",
    "class hydrogen:\n",
    "\n",
    "    def __init__(self, grid) -> None:\n",
    "        self.grid = grid\n",
    "\n",
    "    def V_DVR(self):\n",
    "        d = 0.17\n",
    "        a = 1.04\n",
    "        xe = 1.4\n",
    "\n",
    "        v = d*((1-np.exp(-a*(self.grid.x_values()-xe)))**2) - d\n",
    "\n",
    "        return np.diag(v)\n",
    "    \n",
    "    def T_DVR(self):\n",
    "        cons = 1/((918)*(self.grid.dx**2))\n",
    "        T =  np.zeros((self.grid.N-1, self.grid.N-1))\n",
    "        \n",
    "        for i in range(self.grid.N-1):\n",
    "            for j in range(self.grid.N-1):\n",
    "                if i == j:\n",
    "                    T[i,j] = cons*((np.pi**2)/3 - 1/(2*((i+1)**2)))\n",
    "                else:\n",
    "                    T[i,j] = cons*((-1)**(i-j))*((2/(i-j)**2) - (2/(i+j)**2))\n",
    "        \n",
    "        return T\n",
    "    \n",
    "    def H_DVR(self):\n",
    "\n",
    "        return self.T_DVR() + self.V_DVR()"
   ]
  },
  {
   "cell_type": "code",
   "execution_count": 72,
   "metadata": {},
   "outputs": [],
   "source": [
    "def energy(state, number_of_functions):\n",
    "    \"\"\"number of wavefunctions must be 2 more than your energy state.\"\"\"\n",
    "    \n",
    "    grid_ = grid(0, 10, number_of_functions)\n",
    "    hamiltonian = hydrogen(grid_).H_DVR()\n",
    "\n",
    "    eigenvalues = sl.eigh(hamiltonian, eigvals_only=True)\n",
    "\n",
    "    energy_state = eigenvalues[state]\n",
    "\n",
    "    return energy_state"
   ]
  },
  {
   "cell_type": "code",
   "execution_count": 73,
   "metadata": {},
   "outputs": [],
   "source": [
    "ground_state_values = []\n",
    "\n",
    "for i in range(2,200):\n",
    "    ground_state = energy(0, i)\n",
    "    ground_state_values.append(ground_state)"
   ]
  },
  {
   "cell_type": "code",
   "execution_count": 74,
   "metadata": {},
   "outputs": [
    {
     "data": {
      "text/plain": [
       "198"
      ]
     },
     "execution_count": 74,
     "metadata": {},
     "output_type": "execute_result"
    }
   ],
   "source": [
    "len(ground_state_values)"
   ]
  },
  {
   "cell_type": "code",
   "execution_count": 75,
   "metadata": {},
   "outputs": [
    {
     "data": {
      "image/png": "[encoded data removed]",
      "text/plain": [
       "<Figure size 432x288 with 1 Axes>"
      ]
     },
     "metadata": {
      "needs_background": "light"
     },
     "output_type": "display_data"
    }
   ],
   "source": [
    "plt.xlabel(\"Number of basis Wavefunctions\")\n",
    "plt.ylabel(\"Energy\")\n",
    "plt.title(\"Ground State\")\n",
    "plt.plot(ground_state_values)\n",
    "plt.show()"
   ]
  },
  {
   "cell_type": "code",
   "execution_count": 39,
   "metadata": {},
   "outputs": [
    {
     "data": {
      "text/plain": [
       "7.618483742496581e-05"
      ]
     },
     "execution_count": 39,
     "metadata": {},
     "output_type": "execute_result"
    }
   ],
   "source": [
    "energy(1, 3)"
   ]
  },
  {
   "cell_type": "code",
   "execution_count": 30,
   "metadata": {},
   "outputs": [
    {
     "data": {
      "text/plain": [
       "array([1.])"
      ]
     },
     "execution_count": 30,
     "metadata": {},
     "output_type": "execute_result"
    }
   ],
   "source": [
    "np.linspace(1,5,1)"
   ]
  },
  {
   "cell_type": "code",
   "execution_count": 76,
   "metadata": {},
   "outputs": [],
   "source": [
    "def state_energies(state, number_of_wavefunctions):\n",
    "    \"\"\"number of wavefunctions must be 2 more than your energy state.\"\"\"\n",
    "\n",
    "    state_energy_values = []\n",
    "    \n",
    "    for i in range(state+2, number_of_wavefunctions+state+2):\n",
    "        energy_state = energy(state, i)\n",
    "        state_energy_values.append(energy_state)\n",
    "    \n",
    "    plt.xlabel(\"Number of basis Wavefunctions\")\n",
    "    plt.ylabel(\"Energy\")\n",
    "    plt.title(f\"{state} State\")\n",
    "    plt.plot(state_energy_values)\n",
    "    plt.show()\n",
    "    return None"
   ]
  },
  {
   "cell_type": "code",
   "execution_count": 77,
   "metadata": {},
   "outputs": [
    {
     "data": {
      "image/png": "[encoded data removed]",
      "text/plain": [
       "<Figure size 432x288 with 1 Axes>"
      ]
     },
     "metadata": {
      "needs_background": "light"
     },
     "output_type": "display_data"
    }
   ],
   "source": [
    "state_energies(0, 100)"
   ]
  },
  {
   "cell_type": "code",
   "execution_count": null,
   "metadata": {},
   "outputs": [],
   "source": []
  }
 ],
 "metadata": {
  "kernelspec": {
   "display_name": "Python 3.9.12 ('base')",
   "language": "python",
   "name": "python3"
  },
  "language_info": {
   "codemirror_mode": {
    "name": "ipython",
    "version": 3
   },
   "file_extension": ".py",
   "mimetype": "text/x-python",
   "name": "python",
   "nbconvert_exporter": "python",
   "pygments_lexer": "ipython3",
   "version": "3.9.12"
  },
  "orig_nbformat": 4,
  "vscode": {
   "interpreter": {
    "hash": "22d4cf708b2ea182bff5822eba4f18f6af6527315f0b1aba7247db37519935d6"
   }
  }
 },
 "nbformat": 4,
 "nbformat_minor": 2
}
