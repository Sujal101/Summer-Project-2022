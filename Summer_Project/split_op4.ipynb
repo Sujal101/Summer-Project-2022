{
 "cells": [
  {
   "cell_type": "code",
   "execution_count": 91,
   "metadata": {},
   "outputs": [],
   "source": [
    "import numpy as np\n",
    "from matplotlib import rc, animation\n",
    "import matplotlib.pyplot as plt\n",
    "from scipy.fft import fft, ifft"
   ]
  },
  {
   "cell_type": "code",
   "execution_count": 92,
   "metadata": {},
   "outputs": [],
   "source": [
    "class x_grid:\n",
    "    def __init__(self, start = 0, end = 500, grid_points = 1000):\n",
    "        self.grid_points = grid_points\n",
    "        self.x_values = np.linspace(start, end, grid_points)\n",
    "        self.dx = self.x_values[1] - self.x_values[0]\n",
    "\n",
    "class p_grid:\n",
    "    def __init__(self, x_grid):\n",
    "        self.x = x_grid.x_values\n",
    "        self.dx = x_grid.dx\n",
    "\n",
    "    def p_values(self):\n",
    "        res = len(self.x)\n",
    "        dp = 2 * np.pi / (res * self.dx)\n",
    "        p = np.concatenate((np.arange(0, res / 2),\n",
    "                                    np.arange(-res / 2, 0))) * dp\n",
    "        \n",
    "        return p\n",
    "\n",
    "class potential:\n",
    "    def __init__(self, x_grid):\n",
    "        self.x = x_grid.x_values\n",
    "\n",
    "    def V_values(self):\n",
    "        v = np.zeros_like(self.x)\n",
    "        v[400:450] = 2\n",
    "\n",
    "        return v\n",
    "\n",
    "class kinetic_energy:\n",
    "    def __init__(self, p_grid):\n",
    "        self.p = p_grid.p_values()\n",
    "\n",
    "    def KE_values(self):\n",
    "        ke = (1/2)*self.p**2\n",
    "\n",
    "        return ke\n",
    "\n",
    "class M_method:\n",
    "    def __init__(self, potential, kinetic_energy):\n",
    "        self.v = potential.V_values()\n",
    "        self.ke = kinetic_energy.KE_values()\n",
    "\n",
    "        self.Psi = np.zeros_like(self.v, dtype=complex) # defining a wave function variable\n",
    "    \n",
    "    def hamiltonian(self, vector):\n",
    "        potntial_matrix = np.diag(self.v)\n",
    "        KE_matrix = np.diag(self.ke)\n",
    "\n",
    "        vector = potntial_matrix @ vector\n",
    "\n",
    "        vector = fft(vector.T) # position basis to momentum basis\n",
    "\n",
    "        vector = KE_matrix @ vector.T\n",
    "\n",
    "        vector = ifft(vector.T) # momentum basis to position basis\n",
    "\n",
    "        return vector.T # return a vector\n",
    "    \n",
    "    def initiallize_Psi(self, x_gird):\n",
    "        x = x_gird.x_values\n",
    "\n",
    "        # parameters\n",
    "        sigma = 5\n",
    "        x0 = 100\n",
    "        k = 1\n",
    "\n",
    "        iw = np.ones_like(x, dtype=complex)\n",
    "\n",
    "        # constant term \n",
    "        c = 1/(sigma*np.sqrt(2*np.pi))\n",
    "\n",
    "        # mid term\n",
    "        m = np.exp((-1/2)*((x-x0)/sigma)**2)\n",
    "        \n",
    "        # last term\n",
    "        l = np.exp(1j*k*x)\n",
    "\n",
    "        self.Psi = c * m * l\n",
    "        \n",
    "        return None\n",
    "    \n",
    "    def matrix_method(self, dt):\n",
    "\n",
    "        # O(h) = exp(hB/2) * exp(hA) * exp(hB/2)\n",
    "\n",
    "        real_part = self.Psi.real.reshape(len(self.v), 1) # vector\n",
    "        imag_part = self.Psi.imag.reshape(len(self.v), 1) # vector\n",
    "\n",
    "        # after first B term \n",
    "\n",
    "        imag_part = (-dt/2)*self.hamiltonian(real_part) + imag_part # vector\n",
    "\n",
    "        # after middle A term\n",
    "\n",
    "        real_part = real_part + dt*self.hamiltonian(imag_part) # vector\n",
    "\n",
    "        # after first B term \n",
    "\n",
    "        imag_part = (-dt/2)*self.hamiltonian(real_part) + imag_part # vector\n",
    "\n",
    "        final_Psi = real_part.real + imag_part.real*1j\n",
    "\n",
    "        self.Psi = final_Psi\n",
    "\n",
    "        return None\n"
   ]
  },
  {
   "cell_type": "code",
   "execution_count": 99,
   "metadata": {},
   "outputs": [],
   "source": [
    "x = x_grid()\n",
    "p = p_grid(x)\n",
    "pot = potential(x)\n",
    "ke = kinetic_energy(p)\n",
    "\n",
    "mm = M_method(pot, ke)\n",
    "\n",
    "mm.initiallize_Psi(x) "
   ]
  },
  {
   "cell_type": "code",
   "execution_count": 102,
   "metadata": {},
   "outputs": [
    {
     "data": {
      "text/plain": [
       "[<matplotlib.lines.Line2D at 0x7f3b12179b20>]"
      ]
     },
     "execution_count": 102,
     "metadata": {},
     "output_type": "execute_result"
    },
    {
     "data": {
      "image/png": "[encoded data removed]",
      "text/plain": [
       "<Figure size 432x288 with 1 Axes>"
      ]
     },
     "metadata": {
      "needs_background": "light"
     },
     "output_type": "display_data"
    }
   ],
   "source": [
    "for i in range(100):\n",
    "    mm.matrix_method(0.01)\n",
    "    \n",
    "plt.plot(x.x_values, mm.Psi.real)"
   ]
  },
  {
   "cell_type": "code",
   "execution_count": null,
   "metadata": {},
   "outputs": [],
   "source": []
  }
 ],
 "metadata": {
  "kernelspec": {
   "display_name": "Python 3.9.12 ('base')",
   "language": "python",
   "name": "python3"
  },
  "language_info": {
   "codemirror_mode": {
    "name": "ipython",
    "version": 3
   },
   "file_extension": ".py",
   "mimetype": "text/x-python",
   "name": "python",
   "nbconvert_exporter": "python",
   "pygments_lexer": "ipython3",
   "version": "3.9.12"
  },
  "orig_nbformat": 4,
  "vscode": {
   "interpreter": {
    "hash": "22d4cf708b2ea182bff5822eba4f18f6af6527315f0b1aba7247db37519935d6"
   }
  }
 },
 "nbformat": 4,
 "nbformat_minor": 2
}
